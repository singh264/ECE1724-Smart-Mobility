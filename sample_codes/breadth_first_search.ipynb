{
 "cells": [
  {
   "cell_type": "markdown",
   "metadata": {},
   "source": [
    "# Breadth First Search\n",
    "\n",
    "We will be trying to find and visualize the path between Equestrian Statue of Edward VII and Bahen Center of Technology around Toronto University campus using breadth first search"
   ]
  },
  {
   "cell_type": "markdown",
   "metadata": {},
   "source": [
    "\n",
    "__BREADTH-FIRST-SEARCH__ ( _source_ , _destination_ ) __return__ a route   \n",
    "&emsp;_frontier_ &larr; a **FIFO** initialized with _source_ node  \n",
    "&emsp;_explored_ &larr; _empty_    \n",
    "&emsp;_found_ &larr; _False_  \n",
    "&emsp;__while__  _frontier_ __is not__ _empty_ __and__ _found_ __is__ _False_ __do__  \n",
    "&emsp;&emsp;&emsp;_node_ &larr; _frontier_.pop()   \n",
    "&emsp;&emsp;&emsp;__add__ _node_ __to__ _explored_    \n",
    "&emsp;&emsp;&emsp;__for__ _child_ __in__ _node_.expand() __do__   \n",
    "&emsp;&emsp;&emsp;&emsp;&emsp;__if__ _child_ __is not in__ _explored_ __and__ _child_ __is not in__ _frontier_   __then__  \n",
    "&emsp;&emsp;&emsp;&emsp;&emsp;&emsp;&emsp; __if__ _child_ __is__ _destination_ __then__  \n",
    "&emsp;&emsp;&emsp;&emsp;&emsp;&emsp;&emsp;&emsp;&emsp; _route_ &larr; _child_.route()  \n",
    "&emsp;&emsp;&emsp;&emsp;&emsp;&emsp;&emsp;&emsp;&emsp; _found_ &larr; _True_  \n",
    "&emsp;&emsp;&emsp;&emsp;&emsp;&emsp;&emsp;__add__ _child_ __to__ _frontier_    \n",
    "&emsp;__return__  _route_"
   ]
  },
  {
   "cell_type": "code",
   "execution_count": null,
   "metadata": {},
   "outputs": [],
   "source": [
    "import osmnx as ox\n",
    "import time\n",
    "from tqdm import tqdm\n",
    "from collections import deque\n",
    "from utilities import *"
   ]
  },
  {
   "cell_type": "markdown",
   "metadata": {},
   "source": [
    "Here OSMnx find the largest connected component centered around the ```location point``` with specified ```dist``` on each side (w/n/e/s)."
   ]
  },
  {
   "cell_type": "code",
   "execution_count": null,
   "metadata": {},
   "outputs": [],
   "source": [
    "location_point = (43.661667, -79.395)\n",
    "G = ox.graph_from_point(location_point, dist=300, clean_periphery=True, simplify=True)"
   ]
  },
  {
   "cell_type": "markdown",
   "metadata": {},
   "source": [
    "Here you need to specify which node from our graph is the source (Equestrian Statue of Edward VII) and which is the destination node (Bahen Center of Technology). You can do so by acquiring the decimal coordinates of the desired node and use [```osmnx.distance.get_nearest_node```](https://osmnx.readthedocs.io/en/stable/osmnx.html#osmnx.distance.get_nearest_node) method"
   ]
  },
  {
   "cell_type": "markdown",
   "metadata": {},
   "source": [
    "I used the aforementioned method and found that the osmid of the nodes for destination and source are 389677909, 55808290 respectively"
   ]
  },
  {
   "cell_type": "code",
   "execution_count": null,
   "metadata": {},
   "outputs": [],
   "source": [
    "highlighted = [389677909, 55808290]\n",
    "\n",
    "# marking both the source and destination node\n",
    "\n",
    "nc = ['r' if node in highlighted else '#336699' for node in G.nodes()]\n",
    "ns = [50 if node in highlighted else 8 for node in G.nodes()]\n",
    "fig, ax = ox.plot_graph(G, node_size=ns, node_color=nc, node_zorder=2)"
   ]
  },
  {
   "cell_type": "code",
   "execution_count": null,
   "metadata": {},
   "outputs": [],
   "source": [
    "draw_map(G, highlight = highlighted)"
   ]
  },
  {
   "cell_type": "markdown",
   "metadata": {},
   "source": [
    "Each node in our graph is represented as a dictionary with many attributes of no interest to us now, so manipulating them would obfuscate the algorithm jumping through hoops to get only one attribute from the dictionary. <b>so</b> we define class ```Node``` which only retains the data we need to be able to do searching and traversing, like the parent of the node (the one that produced it from its expansion) and the length of the edge between the parent and the node itself.\n",
    "\n",
    "Please check its source code in ```./utilities/src/common.py``` to know how it captures the data from the graph. "
   ]
  },
  {
   "cell_type": "code",
   "execution_count": null,
   "metadata": {},
   "outputs": [],
   "source": [
    "source(Node)"
   ]
  },
  {
   "cell_type": "markdown",
   "metadata": {},
   "source": [
    "# The Algorithm"
   ]
  },
  {
   "cell_type": "code",
   "execution_count": null,
   "metadata": {},
   "outputs": [],
   "source": [
    "# first define the origin/source nodes as Node\n",
    "origin = Node(graph = G, osmid = 55808290)\n",
    "destination = Node(graph = G, osmid = 389677909)"
   ]
  },
  {
   "cell_type": "code",
   "execution_count": null,
   "metadata": {},
   "outputs": [],
   "source": [
    "%%time\n",
    "bar = tqdm(total=len(G))\n",
    "\n",
    "# this is where we would save our result at the end\n",
    "route = []\n",
    "\n",
    "# we will be using deque instead of normal python lists\n",
    "# to have O(1) [pop/append]-ing instead of O(n) in lists\n",
    "# because deques are implemented with linked-list and\n",
    "# lists are implemented with arrays \n",
    "\n",
    "frontier = deque([origin])\n",
    "\n",
    "# this is a directed multigraph so we need to have memory\n",
    "# so we don't get stuck in a loop\n",
    "explored = set()\n",
    "\n",
    "found = False\n",
    "\n",
    "while frontier and not found:\n",
    "    bar.update(1); time.sleep(0.05) # for the progress bar -- ignore\n",
    "\n",
    "    node = frontier.popleft()\n",
    "    explored.add(node)\n",
    "    for child in node.expand():\n",
    "        if child not in explored and child not in frontier:\n",
    "            if child == destination:\n",
    "                route = child.path()\n",
    "                found = True\n",
    "            frontier.append(child)\n",
    "\n",
    "bar.close()\n",
    "print(\"The route is \\n\\n\",route, \"\\n\\nits cost is\\n\\n\", cost(G, route))"
   ]
  },
  {
   "cell_type": "code",
   "execution_count": null,
   "metadata": {},
   "outputs": [],
   "source": [
    "fig, ax = ox.plot_graph_route(G, route)"
   ]
  },
  {
   "cell_type": "code",
   "execution_count": null,
   "metadata": {},
   "outputs": [],
   "source": [
    "draw_route(G, route)"
   ]
  },
  {
   "cell_type": "markdown",
   "metadata": {},
   "source": [
    "We will be using uber's [kepler.gl](https://kepler.gl/) for one time in this notebook only to make you aware of it, but unfortunatley we won't be using it because of its of its limited API."
   ]
  },
  {
   "cell_type": "code",
   "execution_count": null,
   "metadata": {},
   "outputs": [],
   "source": [
    "import pandas as pd\n",
    "from keplergl import KeplerGl\n",
    "import geopandas as gpd"
   ]
  },
  {
   "cell_type": "code",
   "execution_count": null,
   "metadata": {
    "scrolled": false
   },
   "outputs": [],
   "source": [
    "map1 = KeplerGl(height=600, width=800)\n",
    "map1"
   ]
  },
  {
   "cell_type": "markdown",
   "metadata": {},
   "source": [
    "Kepler is not integrated with osmnx so we need to build the GeoDataFrame of the route data by ourselves. And the above widget will change accordingly, so here we go.  \n",
    "\n",
    "The is what we meant by limited API."
   ]
  },
  {
   "cell_type": "code",
   "execution_count": null,
   "metadata": {},
   "outputs": [],
   "source": [
    "nodes, edges = ox.graph_to_gdfs(G)"
   ]
  },
  {
   "cell_type": "markdown",
   "metadata": {},
   "source": [
    "First let's make a dataframe for the nodes of the route -- this dataframe need to have the y (latitude), x (longitude) of these nodes. That is done by filtering the nodes GeoDataFrame by only keeping the rows which have id in the route list. "
   ]
  },
  {
   "cell_type": "code",
   "execution_count": null,
   "metadata": {},
   "outputs": [],
   "source": [
    "nodes"
   ]
  },
  {
   "cell_type": "code",
   "execution_count": null,
   "metadata": {},
   "outputs": [],
   "source": [
    "route_data_frame = nodes.loc[nodes.index.isin(route)]"
   ]
  },
  {
   "cell_type": "markdown",
   "metadata": {},
   "source": [
    "We will need to load the dataframe into the map as what we will show in the next couple of cells, after that we need to use the GUI of the widget to add it manually."
   ]
  },
  {
   "cell_type": "code",
   "execution_count": null,
   "metadata": {},
   "outputs": [],
   "source": [
    "route_data_frame"
   ]
  },
  {
   "cell_type": "code",
   "execution_count": null,
   "metadata": {},
   "outputs": [],
   "source": [
    "map1.add_data(data=route_data_frame , name=\"route\")\n",
    "\n",
    "# if you run this cell again, it will fail\n",
    "# that's what we meant when we said\n",
    "# the binding of jupyter to JS is very primitive"
   ]
  },
  {
   "cell_type": "markdown",
   "metadata": {},
   "source": [
    "Okay now we have update the widget with the nodes data frame and they should be displayed on the widget above now."
   ]
  },
  {
   "cell_type": "markdown",
   "metadata": {},
   "source": [
    "The hard part now is to make them connected and draw the lines."
   ]
  },
  {
   "cell_type": "markdown",
   "metadata": {},
   "source": [
    "What we have made above is called adding a layer to the visualization, and every layer need certain attributes to be rendered correctly.  \n",
    "\n",
    "The \"nodes\" layers is called point layers which needs a dataframe consists of a rows of coordinates for each node/point to rendered. To display the route, we need use layer called \"lines\" layer which needs to have the source and destination coordinates for each line/road and after we add this dataframe, we need to add it manually.  \n",
    "\n",
    "Let's get started"
   ]
  },
  {
   "cell_type": "code",
   "execution_count": null,
   "metadata": {},
   "outputs": [],
   "source": [
    "# let's build the dictionary from which\n",
    "# we can convert it to pandas dataframe\n",
    "\n",
    "# list of tuples (latitude, longitude)\n",
    "src_nodes = []\n",
    "dest_nodes = []\n",
    "\n",
    "for src_node_edge, dest_node_edge in zip(route, route[1:]):\n",
    "    \n",
    "    src_nodes.append(\n",
    "                    (\n",
    "                     float(nodes.loc[[src_node_edge]]['x']),\n",
    "                     float(nodes.loc[[src_node_edge]]['y'])\n",
    "                    )\n",
    "                   )\n",
    "    \n",
    "    dest_nodes.append(\n",
    "                    (\n",
    "                     float(nodes.loc[[dest_node_edge]]['x']),\n",
    "                     float(nodes.loc[[dest_node_edge]]['y'])\n",
    "                    )\n",
    "                   )\n"
   ]
  },
  {
   "cell_type": "code",
   "execution_count": null,
   "metadata": {},
   "outputs": [],
   "source": [
    "data_frame = {\n",
    "    'source_x' : [coordinates[0] for coordinates in src_nodes],\n",
    "    'dest_x' :   [coordinates[0] for coordinates in dest_nodes],\n",
    "    'source_y' : [coordinates[1] for coordinates in src_nodes],\n",
    "    'dest_y' :   [coordinates[1] for coordinates in dest_nodes],\n",
    "}"
   ]
  },
  {
   "cell_type": "code",
   "execution_count": null,
   "metadata": {},
   "outputs": [],
   "source": [
    "edges_route = pd.DataFrame(data_frame, columns = ['source_x', 'dest_x', 'source_y', 'dest_y'])\n"
   ]
  },
  {
   "cell_type": "code",
   "execution_count": null,
   "metadata": {},
   "outputs": [],
   "source": [
    "edges_route # y is latitude and x is longitude"
   ]
  },
  {
   "cell_type": "markdown",
   "metadata": {},
   "source": [
    "Okay let's have a clean map and add these lines step by step."
   ]
  },
  {
   "cell_type": "code",
   "execution_count": null,
   "metadata": {},
   "outputs": [],
   "source": [
    "map2 = KeplerGl(height=600, width=800)\n",
    "map2"
   ]
  },
  {
   "cell_type": "code",
   "execution_count": null,
   "metadata": {},
   "outputs": [],
   "source": [
    "map2.add_data(data=edges_route , name=\"route\")"
   ]
  },
  {
   "cell_type": "markdown",
   "metadata": {},
   "source": [
    "Okay now you need to press the little arrow icon on the upper left which opens a toolset to add layers, filters, and other things.\n",
    "\n",
    "It should open on the \"Layers\" tab automatically, after that press **Add Layer** and name the layer anything and then from **Basic** dropbox choose **Line**, it will prompt you to specify Source Lat/Lng and Target Lat/Lng. Choose \"source_y\" in Source Lat and \"source_x\" in Source Lng, and then choose \"dest_y\" in Target Lat and \"dest_x\" in Target Lng.  \n",
    "\n",
    "The \"route\" should be in its place now, to show it you need to scroll through the map of the world above to UofT coordinates and you should see the route in its place."
   ]
  },
  {
   "cell_type": "markdown",
   "metadata": {},
   "source": [
    "You can add another layer to see the nodes of the route in the same visualization by adding \"Point\" layer and remember that y is latitude and x in longitude."
   ]
  },
  {
   "cell_type": "markdown",
   "metadata": {},
   "source": [
    "---\n",
    "\n",
    "This seems like a lot of hustle, but we wanted to introduce to you this tool because it is Uber :) and the project is [very active](https://github.com/keplergl/kepler.gl). \n",
    "\n",
    "The jupyter bindings are still primitive and needs a lot of work to be on par with leaflet-based maps, but the tool is originally intended to be a React Component and some people did some very slick visualization with it which you can check them on the kepler.gl website and [here](https://github.com/uber-web/kepler.gl-data). So keep this tool in mind when you are working on the next Uber :))"
   ]
  }
 ],
 "metadata": {
  "kernelspec": {
   "display_name": "Python 3",
   "language": "python",
   "name": "python3"
  },
  "language_info": {
   "codemirror_mode": {
    "name": "ipython",
    "version": 3
   },
   "file_extension": ".py",
   "mimetype": "text/x-python",
   "name": "python",
   "nbconvert_exporter": "python",
   "pygments_lexer": "ipython3",
   "version": "3.8.5"
  }
 },
 "nbformat": 4,
 "nbformat_minor": 4
}
